{
 "cells": [
  {
   "cell_type": "markdown",
   "id": "4a669d2b-e0cd-46e0-b1e0-12b665260239",
   "metadata": {},
   "source": [
    "#### Analyzing sar data programatically:"
   ]
  },
  {
   "cell_type": "code",
   "execution_count": 1,
   "id": "f6084dd3-7a60-4e92-9c50-7f74750c885c",
   "metadata": {},
   "outputs": [],
   "source": [
    "import os\n",
    "import sys\n",
    "parentDir = os.path.abspath('..')\n",
    "sys.path.append(parentDir)"
   ]
  },
  {
   "cell_type": "code",
   "execution_count": 2,
   "id": "3108f2fe-f64c-4d04-9a38-2175e1e8bbb3",
   "metadata": {},
   "outputs": [],
   "source": [
    "from sar import sar\n",
    "from sar.utils import Table\n",
    "from sar.utils import BarPlot\n",
    "from sar.utils import printList, getListDisplayText, printStreamBuffer, stack, underline\n",
    "from sar.utils import Stage\n",
    "import json"
   ]
  },
  {
   "cell_type": "code",
   "execution_count": 3,
   "id": "2e0b3e2a-3184-4ef2-ba3b-f68e77f7c909",
   "metadata": {},
   "outputs": [],
   "source": [
    "import glob\n",
    "sarfiles = glob.glob( './sar*txt')"
   ]
  },
  {
   "cell_type": "code",
   "execution_count": 4,
   "id": "bb089aef-b3df-4550-a7f3-1cec015f48f4",
   "metadata": {},
   "outputs": [
    {
     "data": {
      "text/plain": [
       "['./saru.txt',\n",
       " './sarb.txt',\n",
       " './sarw.txt',\n",
       " './sarr.txt',\n",
       " './sar-A.txt',\n",
       " './sar.txt']"
      ]
     },
     "execution_count": 4,
     "metadata": {},
     "output_type": "execute_result"
    }
   ],
   "source": [
    "sarfiles"
   ]
  },
  {
   "cell_type": "code",
   "execution_count": 5,
   "id": "4185b6a9-cef8-4a47-9335-1ca47790181c",
   "metadata": {},
   "outputs": [],
   "source": [
    "fileDictionary={}\n",
    "for fileName in sarfiles:\n",
    "    with open (fileName) as fhand:\n",
    "        fileDictionary[fileName]=sar(fhand)"
   ]
  },
  {
   "cell_type": "code",
   "execution_count": 6,
   "id": "4568a1f2-57ab-4ce4-b2e1-3ed42efafce9",
   "metadata": {},
   "outputs": [
    {
     "data": {
      "text/plain": [
       "{'./saru.txt': <sar.sar.sar at 0x104147f50>,\n",
       " './sarb.txt': <sar.sar.sar at 0x104147dd0>,\n",
       " './sarw.txt': <sar.sar.sar at 0x10416fef0>,\n",
       " './sarr.txt': <sar.sar.sar at 0x10542cec0>,\n",
       " './sar-A.txt': <sar.sar.sar at 0x10542cef0>,\n",
       " './sar.txt': <sar.sar.sar at 0x10444e0c0>}"
      ]
     },
     "execution_count": 6,
     "metadata": {},
     "output_type": "execute_result"
    }
   ],
   "source": [
    "fileDictionary"
   ]
  },
  {
   "cell_type": "code",
   "execution_count": 7,
   "id": "fb9b7398-273b-4bd1-baf8-24466874b7fb",
   "metadata": {},
   "outputs": [
    {
     "data": {
      "text/plain": [
       "[('./saru.txt', []),\n",
       " ('./sarb.txt', []),\n",
       " ('./sarw.txt', []),\n",
       " ('./sarr.txt', []),\n",
       " ('./sar-A.txt', []),\n",
       " ('./sar.txt', [<sar.utils.table.Table at 0x105b86300>])]"
      ]
     },
     "execution_count": 7,
     "metadata": {},
     "output_type": "execute_result"
    }
   ],
   "source": [
    "[(n, s.fetchtables('%user')) for n,s in fileDictionary.items()]"
   ]
  },
  {
   "cell_type": "code",
   "execution_count": 8,
   "id": "c7db5da4-437c-4125-9143-1d48ee2c58cb",
   "metadata": {},
   "outputs": [
    {
     "data": {
      "text/plain": [
       "[('./saru.txt', [<sar.utils.table.Table at 0x105b86870>]),\n",
       " ('./sarb.txt', []),\n",
       " ('./sarw.txt', []),\n",
       " ('./sarr.txt', []),\n",
       " ('./sar-A.txt', [<sar.utils.table.Table at 0x105b866c0>]),\n",
       " ('./sar.txt', [])]"
      ]
     },
     "execution_count": 8,
     "metadata": {},
     "output_type": "execute_result"
    }
   ],
   "source": [
    "[(n, s.fetchtables('%usr')) for n,s in fileDictionary.items()]"
   ]
  },
  {
   "cell_type": "code",
   "execution_count": 9,
   "id": "b23af19b-ba5e-4d41-8dd7-0456390649fb",
   "metadata": {},
   "outputs": [
    {
     "data": {
      "text/plain": [
       "[{428484498971099520: <sar.utils.table.Table at 0x105b7f470>},\n",
       " {428484498971099520: <sar.utils.table.Table at 0x105b85af0>}]"
      ]
     },
     "execution_count": 9,
     "metadata": {},
     "output_type": "execute_result"
    }
   ],
   "source": [
    "s1=fileDictionary['./sar.txt']\n",
    "s1.tableList"
   ]
  },
  {
   "cell_type": "code",
   "execution_count": 10,
   "id": "32c8d3a0-c2ed-4085-9128-b4e20b86bf05",
   "metadata": {},
   "outputs": [
    {
     "name": "stdout",
     "output_type": "stream",
     "text": [
      "Timestamp       CPU     %user     %nice     %system     %iowait     %steal     %idle     \n",
      "---------       ---     -----     -----     -------     -------     ------     -----     \n",
      "12:11:00 AM     all     0.04      0.02      0.18        0.05        0.00       99.72     \n",
      "12:20:08 AM     all     0.01      0.00      0.12        0.02        0.00       99.85     \n",
      "12:30:15 AM     all     0.09      0.00      0.23        0.02        0.00       99.65     \n",
      "12:40:07 AM     all     0.05      0.00      0.19        0.02        0.00       99.74     \n",
      "12:50:15 AM     all     0.01      0.00      0.11        0.02        0.00       99.86     \n",
      "01:00:15 AM     all     0.02      0.00      0.11        0.02        0.00       99.85     \n",
      "01:10:08 AM     all     0.01      0.00      0.10        0.02        0.00       99.87     \n",
      "04:02:49 AM     all     0.01      0.00      0.11        0.02        0.00       99.87     \n",
      "04:36:35 AM     all     0.04      0.01      0.14        0.04        0.00       99.78     \n",
      "04:46:50 AM     all     0.04      0.00      0.11        0.02        0.00       99.83     \n",
      "05:10:02 PM     all     0.04      0.00      0.14        0.03        0.00       99.80     \n",
      "05:20:30 PM     all     0.01      0.00      0.12        0.02        0.00       99.85     \n",
      "05:30:02 PM     all     0.01      0.00      0.13        0.02        0.00       99.84     \n",
      "05:40:03 PM     all     0.01      0.00      0.13        0.02        0.00       99.84     \n",
      "05:50:42 PM     all     0.04      0.05      0.13        0.02        0.00       99.76     \n",
      "06:00:02 PM     all     0.02      0.00      0.14        0.03        0.00       99.81     \n",
      "06:32:09 PM     all     0.03      0.00      0.16        0.02        0.00       99.79     \n",
      "06:40:10 PM     all     0.05      0.00      0.14        0.02        0.00       99.79     \n",
      "06:50:02 PM     all     0.03      0.00      0.15        0.02        0.00       99.80     \n",
      "07:00:22 PM     all     0.01      0.00      0.13        0.02        0.00       99.84     \n",
      "07:10:02 PM     all     0.01      0.00      0.13        0.02        0.00       99.85     \n",
      "07:20:22 PM     all     0.01      0.00      0.13        0.02        0.00       99.84     \n",
      "07:30:12 PM     all     0.01      0.00      0.15        0.02        0.00       99.82     \n",
      "07:40:02 PM     all     0.01      0.00      0.13        0.02        0.00       99.85     \n",
      "07:50:22 PM     all     0.01      0.00      0.12        0.02        0.00       99.85     \n",
      "08:00:15 PM     all     0.03      0.00      0.13        0.02        0.00       99.82     \n",
      "08:10:02 PM     all     0.01      0.00      0.12        0.02        0.00       99.85     \n",
      "08:20:01 PM     all     0.02      0.00      0.13        0.02        0.00       99.83     \n",
      "08:39:21 PM     all     0.46      0.29      0.30        0.10        0.00       98.85     \n",
      "08:40:50 PM     all     0.03      0.00      0.13        0.02        0.00       99.82     \n",
      "08:59:23 PM     all     0.03      0.00      0.13        0.02        0.00       99.82     \n",
      "09:00:00 PM     all     0.01      0.00      0.13        0.03        0.00       99.83     \n",
      "09:13:06 PM     all     0.02      0.00      0.13        0.02        0.00       99.83     \n",
      "09:20:04 PM     all     0.01      0.00      0.14        0.02        0.00       99.83     \n",
      "09:44:48 PM     all     0.01      0.00      0.12        0.02        0.00       99.85     \n",
      "10:03:34 PM     all     0.05      0.00      0.13        0.02        0.00       99.81     \n",
      "10:10:32 PM     all     0.05      0.00      0.15        0.02        0.00       99.79     \n",
      "10:20:28 PM     all     0.03      0.00      0.15        0.02        0.00       99.80     \n"
     ]
    }
   ],
   "source": [
    "for t in s1.fetchtables('%user'):\n",
    "    t.print()"
   ]
  },
  {
   "cell_type": "code",
   "execution_count": 11,
   "id": "140ab748-9117-4b7d-af33-14ba0486854d",
   "metadata": {},
   "outputs": [],
   "source": [
    "def analyzeFields(fields, sarDataInstance):\n",
    "    \"\"\"analyzeFields runs once for every report.\n",
    "    Each json field maps to a report name using \"report\" key. If a field specifies no report name, it will default to \"Others\"\n",
    "    At this time, analyzeFields performs a sorting of each field referenced in sar.json using \"sort\" key.\n",
    "    Fields are sorted in descending order - presuming the highest values are the ones of interest.\n",
    "    A group column is displayed when specified in sar.json using \"group\" key.\"\"\"\n",
    "    lists=[]\n",
    "    for field in fields:\n",
    "        sort=field.get('sort')\n",
    "        tables=sarDataInstance.fetchtables(sort)\n",
    "\n",
    "        for t in tables:\n",
    "            data=BarPlot.appendBarPlot(t.get(('Timestamp',sort),filterFunc=lambda x:True, sortKey=lambda x:float(x(sort)), reverse=True)[:5],1)\n",
    "            lists.append(getListDisplayText(header=('Timestamp',sort,''), data=data))\n",
    "    return lists"
   ]
  },
  {
   "cell_type": "code",
   "execution_count": 12,
   "id": "4748f2d7-d534-4220-b761-14971677796c",
   "metadata": {},
   "outputs": [],
   "source": [
    "with open('../conf/sar.json','r') as jsontst:\n",
    "    jsonfields=json.load(jsontst)"
   ]
  },
  {
   "cell_type": "code",
   "execution_count": 13,
   "id": "e1c007cf-efc2-47f1-b8bb-2ed9da04589b",
   "metadata": {},
   "outputs": [],
   "source": [
    "reportsDict={}\n",
    "for d in jsonfields['fields']:\n",
    "    reportName=d.get('report','Others')\n",
    "    reportsDict[reportName]=reportsDict.get(reportName,[])+[d]"
   ]
  },
  {
   "cell_type": "code",
   "execution_count": 14,
   "id": "993b0d62-5328-4580-9b17-55d30eb39568",
   "metadata": {},
   "outputs": [
    {
     "name": "stdout",
     "output_type": "stream",
     "text": [
      "Analyzing: ./saru.txt:\n",
      "\n",
      "===================================\n",
      "=          Analyzing Memory       =\n",
      "===================================\n",
      "\n",
      "Timestamp     %memused                                     Timestamp     kbmemused                                 Timestamp     %commit                                     \n",
      "---------     --------                                     ---------     ---------                                 ---------     -------                                     \n",
      "19:35:01      78.27        ▄▄▄▄▄▄▄                         19:35:01      38380936      ▄▄▄                         23:45:01      70.07       ▄▄▄▄▄▄▄                         \n",
      "19:30:01      78.18        ▄▄▄▄▄▄▄                         19:30:01      38337740      ▄▄▄                         23:55:01      70.07       ▄▄▄▄▄▄▄                         \n",
      "19:25:01      78.12        ▄▄▄▄▄▄▄                         19:25:01      38306944      ▄▄▄                         23:25:01      70.06       ▄▄▄▄▄▄▄                         \n",
      "19:20:01      78.02        ▄▄▄▄▄▄▄                         19:20:01      38260880      ▄▄▄                         23:40:01      70.06       ▄▄▄▄▄▄▄                         \n",
      "22:35:01      78.02        ▄▄▄▄▄▄▄                         22:35:01      38259020      ▄▄▄                         23:50:01      70.06       ▄▄▄▄▄▄▄                         \n",
      "                                                                                                                                                                             \n",
      "\n",
      "=================================\n",
      "=          Analyzing Swap       =\n",
      "=================================\n",
      "\n",
      "Timestamp     pswpin/s                              Timestamp     pswpout/s                              \n",
      "---------     --------                              ---------     ---------                              \n",
      "00:05:31      0.00                                  00:05:31      0.00                                   \n",
      "00:10:01      0.00                                  00:10:01      0.00                                   \n",
      "00:15:01      0.00                                  00:15:01      0.00                                   \n",
      "00:20:01      0.00                                  00:20:01      0.00                                   \n",
      "00:25:01      0.00                                  00:25:01      0.00                                   \n",
      "                                                                                                         \n",
      "\n",
      "===============================\n",
      "=          Analyzing CPU      =\n",
      "===============================\n",
      "\n",
      "Timestamp     %usr                                                                           Timestamp     %sys                                \n",
      "---------     ----                                                                           ---------     ----                                \n",
      "22:25:01      44.76     ▄▄▄▄▄▄▄▄▄▄▄▄▄▄▄▄▄▄▄▄▄▄▄▄▄▄▄▄▄▄▄▄▄▄▄▄▄▄▄▄▄▄▄▄                         00:05:31      2.23     ▄▄                         \n",
      "22:40:01      41.81     ▄▄▄▄▄▄▄▄▄▄▄▄▄▄▄▄▄▄▄▄▄▄▄▄▄▄▄▄▄▄▄▄▄▄▄▄▄▄▄▄▄                            00:05:31      2.05     ▄▄                         \n",
      "22:40:01      40.10     ▄▄▄▄▄▄▄▄▄▄▄▄▄▄▄▄▄▄▄▄▄▄▄▄▄▄▄▄▄▄▄▄▄▄▄▄▄▄▄▄                             00:05:31      2.02     ▄▄                         \n",
      "22:25:01      38.20     ▄▄▄▄▄▄▄▄▄▄▄▄▄▄▄▄▄▄▄▄▄▄▄▄▄▄▄▄▄▄▄▄▄▄▄▄▄▄                               00:05:31      2.00     ▄▄                         \n",
      "22:40:01      37.12     ▄▄▄▄▄▄▄▄▄▄▄▄▄▄▄▄▄▄▄▄▄▄▄▄▄▄▄▄▄▄▄▄▄▄▄▄▄                                00:05:31      1.81     ▄                          \n",
      "                                                                                                                                               \n",
      "\n",
      "Timestamp     %iowait                                                 \n",
      "---------     -------                                                 \n",
      "00:05:31      19.03       ▄▄▄▄▄▄▄▄▄▄▄▄▄▄▄▄▄▄▄                         \n",
      "00:05:31      9.65        ▄▄▄▄▄▄▄▄▄                                   \n",
      "00:05:31      8.17        ▄▄▄▄▄▄▄▄                                    \n",
      "00:05:31      6.67        ▄▄▄▄▄▄                                      \n",
      "00:05:31      4.74        ▄▄▄▄                                        \n",
      "                                                                      \n",
      "\n",
      "===================================\n",
      "=          Analyzing Others       =\n",
      "===================================\n",
      "\n",
      "Timestamp     bwrtn/s                                 \n",
      "---------     -------                                 \n",
      "00:05:31      23240.48     ▄▄                         \n",
      "17:20:01      881.25                                  \n",
      "15:40:01      858.05                                  \n",
      "18:40:01      834.29                                  \n",
      "16:55:01      817.32                                  \n",
      "                                                      \n",
      "Analyzing: ./sarb.txt:\n",
      "\n",
      "===================================\n",
      "=          Analyzing Others       =\n",
      "===================================\n",
      "\n",
      "Timestamp       bwrtn/s                                          \n",
      "---------       -------                                          \n",
      "12:19:26 AM     12.00       ▄▄▄▄▄▄▄▄▄▄▄▄                         \n",
      "12:19:14 AM     0.00                                             \n",
      "12:19:16 AM     0.00                                             \n",
      "12:19:18 AM     0.00                                             \n",
      "12:19:20 AM     0.00                                             \n",
      "                                                                 \n",
      "Analyzing: ./sarw.txt:\n",
      "\n",
      "=================================\n",
      "=          Analyzing Swap       =\n",
      "=================================\n",
      "\n",
      "Timestamp       pswpin/s                              Timestamp       pswpout/s                              \n",
      "---------       --------                              ---------       ---------                              \n",
      "12:10:20 AM     0.00                                  12:10:20 AM     0.00                                   \n",
      "12:20:20 AM     0.00                                  12:20:20 AM     0.00                                   \n",
      "12:30:12 AM     0.00                                  12:30:12 AM     0.00                                   \n",
      "12:40:20 AM     0.00                                  12:40:20 AM     0.00                                   \n",
      "12:50:20 AM     0.00                                  12:50:20 AM     0.00                                   \n",
      "                                                                                                             \n",
      "Analyzing: ./sarr.txt:\n",
      "\n",
      "===================================\n",
      "=          Analyzing Memory       =\n",
      "===================================\n",
      "\n",
      "Timestamp       %memused                                   Timestamp       kbdirty                                    Timestamp       kbmemused                               \n",
      "---------       --------                                   ---------       -------                                    ---------       ---------                               \n",
      "01:00:17 AM     5.34         ▄▄▄▄▄                         12:20:20 AM     648         ▄▄▄▄▄▄                         01:00:17 AM     107024        ▄                         \n",
      "01:10:07 AM     5.33         ▄▄▄▄▄                         02:33:02 AM     172         ▄                              01:10:07 AM     106892        ▄                         \n",
      "12:50:20 AM     5.31         ▄▄▄▄▄                         12:50:20 AM     168         ▄                              12:50:20 AM     106480        ▄                         \n",
      "01:20:20 AM     5.13         ▄▄▄▄▄                         04:16:01 AM     140         ▄                              01:20:20 AM     102764        ▄                         \n",
      "01:30:20 AM     5.12         ▄▄▄▄▄                         03:52:42 AM     128         ▄                              01:30:20 AM     102656        ▄                         \n",
      "                                                                                                                                                                              \n",
      "\n",
      "Timestamp       %commit                                     \n",
      "---------       -------                                     \n",
      "03:25:02 AM     7.62        ▄▄▄▄▄▄▄                         \n",
      "02:49:39 AM     7.60        ▄▄▄▄▄▄▄                         \n",
      "02:50:14 AM     7.60        ▄▄▄▄▄▄▄                         \n",
      "03:10:01 AM     7.60        ▄▄▄▄▄▄▄                         \n",
      "02:33:02 AM     6.34        ▄▄▄▄▄▄                          \n",
      "                                                            \n",
      "Analyzing: ./sar-A.txt:\n",
      "\n",
      "===================================\n",
      "=          Analyzing Memory       =\n",
      "===================================\n",
      "\n",
      "Timestamp       %memused                                   Timestamp       kbdirty                                                                                      \n",
      "---------       --------                                   ---------       -------                                                                                      \n",
      "01:08:02 AM     5.67         ▄▄▄▄▄                         01:08:23 AM     56          ▄▄▄▄▄▄▄▄▄▄▄▄▄▄▄▄▄▄▄▄▄▄▄▄▄▄▄▄▄▄▄▄▄▄▄▄▄▄▄▄▄▄▄▄▄▄▄▄▄▄▄▄▄▄▄▄                         \n",
      "01:08:05 AM     5.67         ▄▄▄▄▄                         01:08:29 AM     56          ▄▄▄▄▄▄▄▄▄▄▄▄▄▄▄▄▄▄▄▄▄▄▄▄▄▄▄▄▄▄▄▄▄▄▄▄▄▄▄▄▄▄▄▄▄▄▄▄▄▄▄▄▄▄▄▄                         \n",
      "01:08:08 AM     5.67         ▄▄▄▄▄                         01:08:11 AM     52          ▄▄▄▄▄▄▄▄▄▄▄▄▄▄▄▄▄▄▄▄▄▄▄▄▄▄▄▄▄▄▄▄▄▄▄▄▄▄▄▄▄▄▄▄▄▄▄▄▄▄▄▄                             \n",
      "01:08:11 AM     5.67         ▄▄▄▄▄                         01:08:32 AM     52          ▄▄▄▄▄▄▄▄▄▄▄▄▄▄▄▄▄▄▄▄▄▄▄▄▄▄▄▄▄▄▄▄▄▄▄▄▄▄▄▄▄▄▄▄▄▄▄▄▄▄▄▄                             \n",
      "01:08:14 AM     5.67         ▄▄▄▄▄                         01:08:14 AM     48          ▄▄▄▄▄▄▄▄▄▄▄▄▄▄▄▄▄▄▄▄▄▄▄▄▄▄▄▄▄▄▄▄▄▄▄▄▄▄▄▄▄▄▄▄▄▄▄▄                                 \n",
      "                                                                                                                                                                        \n",
      "\n",
      "Timestamp       kbmemused                               Timestamp       %commit                                    \n",
      "---------       ---------                               ---------       -------                                    \n",
      "01:08:02 AM     113616        ▄                         01:08:02 AM     6.58        ▄▄▄▄▄▄                         \n",
      "01:08:05 AM     113600        ▄                         01:08:05 AM     6.58        ▄▄▄▄▄▄                         \n",
      "01:08:08 AM     113592        ▄                         01:08:08 AM     6.58        ▄▄▄▄▄▄                         \n",
      "01:08:11 AM     113584        ▄                         01:08:11 AM     6.58        ▄▄▄▄▄▄                         \n",
      "01:08:14 AM     113572        ▄                         01:08:14 AM     6.58        ▄▄▄▄▄▄                         \n",
      "                                                                                                                   \n",
      "\n",
      "=================================\n",
      "=          Analyzing Swap       =\n",
      "=================================\n",
      "\n",
      "Timestamp       pswpin/s                              Timestamp       pswpout/s                              \n",
      "---------       --------                              ---------       ---------                              \n",
      "01:08:02 AM     0.00                                  01:08:02 AM     0.00                                   \n",
      "01:08:05 AM     0.00                                  01:08:05 AM     0.00                                   \n",
      "01:08:08 AM     0.00                                  01:08:08 AM     0.00                                   \n",
      "01:08:11 AM     0.00                                  01:08:11 AM     0.00                                   \n",
      "01:08:14 AM     0.00                                  01:08:14 AM     0.00                                   \n",
      "                                                                                                             \n",
      "\n",
      "===============================\n",
      "=          Analyzing CPU      =\n",
      "===============================\n",
      "\n",
      "Timestamp       %usr                              Timestamp       %sys                              Timestamp       %iowait                              \n",
      "---------       ----                              ---------       ----                              ---------       -------                              \n",
      "01:08:05 AM     0.33                              01:08:02 AM     0.34                              01:08:11 AM     0.33                                 \n",
      "01:08:11 AM     0.33                              01:08:05 AM     0.33                              01:08:26 AM     0.33                                 \n",
      "01:08:23 AM     0.33                              01:08:05 AM     0.33                              01:08:38 AM     0.33                                 \n",
      "01:08:35 AM     0.33                              01:08:05 AM     0.33                              01:08:50 AM     0.33                                 \n",
      "01:08:38 AM     0.33                              01:08:08 AM     0.33                              01:08:11 AM     0.17                                 \n",
      "                                                                                                                                                         \n",
      "\n",
      "===================================\n",
      "=          Analyzing Others       =\n",
      "===================================\n",
      "\n",
      "Timestamp       bwrtn/s                                                                   \n",
      "---------       -------                                                                   \n",
      "01:08:32 AM     37.33       ▄▄▄▄▄▄▄▄▄▄▄▄▄▄▄▄▄▄▄▄▄▄▄▄▄▄▄▄▄▄▄▄▄▄▄▄▄                         \n",
      "01:08:02 AM     23.92       ▄▄▄▄▄▄▄▄▄▄▄▄▄▄▄▄▄▄▄▄▄▄▄                                       \n",
      "01:08:17 AM     16.00       ▄▄▄▄▄▄▄▄▄▄▄▄▄▄▄▄                                              \n",
      "01:08:23 AM     16.00       ▄▄▄▄▄▄▄▄▄▄▄▄▄▄▄▄                                              \n",
      "01:08:35 AM     16.00       ▄▄▄▄▄▄▄▄▄▄▄▄▄▄▄▄                                              \n",
      "                                                                                          \n",
      "Analyzing: ./sar.txt:\n",
      "\n",
      "===============================\n",
      "=          Analyzing CPU      =\n",
      "===============================\n",
      "\n",
      "Timestamp       %user                              Timestamp       %system                              Timestamp       %iowait                              \n",
      "---------       -----                              ---------       -------                              ---------       -------                              \n",
      "08:39:21 PM     0.46                               08:39:21 PM     0.30                                 08:39:21 PM     0.10                                 \n",
      "12:30:15 AM     0.09                               12:30:15 AM     0.23                                 12:11:00 AM     0.05                                 \n",
      "12:40:07 AM     0.05                               12:40:07 AM     0.19                                 04:36:35 AM     0.04                                 \n",
      "06:40:10 PM     0.05                               12:11:00 AM     0.18                                 05:10:02 PM     0.03                                 \n",
      "10:03:34 PM     0.05                               06:32:09 PM     0.16                                 06:00:02 PM     0.03                                 \n",
      "                                                                                                                                                             \n"
     ]
    }
   ],
   "source": [
    "for n,s in fileDictionary.items():\n",
    "    print(f'Analyzing: {n}:')\n",
    "    for report in reportsDict.items():\n",
    "        lists=analyzeFields(report[1], s)\n",
    "        if len(lists) > 0:\n",
    "            print(Stage('Analyzing '+report[0]).stringValue())\n",
    "            stack(*lists, padding=20, lineCapacity=200)"
   ]
  },
  {
   "cell_type": "code",
   "execution_count": 15,
   "id": "967b96f4-1f06-456f-ab4f-c8e6849f5c4e",
   "metadata": {},
   "outputs": [],
   "source": [
    "with open('sar.txt') as fhand:\n",
    "    sarObj=sar(fhand)\n"
   ]
  },
  {
   "cell_type": "code",
   "execution_count": 16,
   "id": "60192cd4-e395-43a7-a89c-5141e6b925b0",
   "metadata": {},
   "outputs": [
    {
     "name": "stdout",
     "output_type": "stream",
     "text": [
      "Linux 6.8.0-50-generic (ubuntu2404) \t12/15/2024 \t_aarch64_\t(2 CPU)\n",
      "\n",
      "12:01:11 AM     CPU     %user     %nice   %system   %iowait    %steal     %idle\n",
      "12:11:00 AM     all      0.04      0.02      0.18      0.05      0.00     99.72\n",
      "12:20:08 AM     all      0.01      0.00      0.12      0.02      0.00     99.85\n",
      "12:30:15 AM     all      0.09      0.00      0.23      0.02      0.00     99.65\n",
      "12:40:07 AM     all      0.05      0.00      0.19      0.02      0.00     99.74\n",
      "12:50:15 AM     all      0.01      0.00      0.11      0.02      0.00     99.86\n",
      "01:00:15 AM     all      0.02      0.00      0.11      0.02      0.00     99.85\n",
      "01:10:08 AM     all      0.01      0.00      0.10      0.02      0.00     99.87\n",
      "04:02:49 AM     all      0.01      0.00      0.11      0.02      0.00     99.87\n",
      "04:36:35 AM     all      0.04      0.01      0.14      0.04      0.00     99.78\n",
      "04:46:50 AM     all      0.04      0.00      0.11      0.02      0.00     99.83\n",
      "Average:        all      0.03      0.00      0.14      0.02      0.00     99.81\n",
      "\n",
      "04:59:43 PM  LINUX RESTART\t(2 CPU)\n",
      "\n",
      "05:00:02 PM     CPU     %user     %nice   %system   %iowait    %steal     %idle\n",
      "05:10:02 PM     all      0.04      0.00      0.14      0.03      0.00     99.80\n",
      "05:20:30 PM     all      0.01      0.00      0.12      0.02      0.00     99.85\n",
      "05:30:02 PM     all      0.01      0.00      0.13      0.02      0.00     99.84\n",
      "05:40:03 PM     all      0.01      0.00      0.13      0.02      0.00     99.84\n",
      "05:50:42 PM     all      0.04      0.05      0.13      0.02      0.00     99.76\n",
      "06:00:02 PM     all      0.02      0.00      0.14      0.03      0.00     99.81\n",
      "06:32:09 PM     all      0.03      0.00      0.16      0.02      0.00     99.79\n",
      "06:40:10 PM     all      0.05      0.00      0.14      0.02      0.00     99.79\n",
      "06:50:02 PM     all      0.03      0.00      0.15      0.02      0.00     99.80\n",
      "07:00:22 PM     all      0.01      0.00      0.13      0.02      0.00     99.84\n",
      "07:10:02 PM     all      0.01      0.00      0.13      0.02      0.00     99.85\n",
      "07:20:22 PM     all      0.01      0.00      0.13      0.02      0.00     99.84\n",
      "07:30:12 PM     all      0.01      0.00      0.15      0.02      0.00     99.82\n",
      "07:40:02 PM     all      0.01      0.00      0.13      0.02      0.00     99.85\n",
      "07:50:22 PM     all      0.01      0.00      0.12      0.02      0.00     99.85\n",
      "08:00:15 PM     all      0.03      0.00      0.13      0.02      0.00     99.82\n",
      "08:10:02 PM     all      0.01      0.00      0.12      0.02      0.00     99.85\n",
      "08:20:01 PM     all      0.02      0.00      0.13      0.02      0.00     99.83\n",
      "08:39:21 PM     all      0.46      0.29      0.30      0.10      0.00     98.85\n",
      "08:40:50 PM     all      0.03      0.00      0.13      0.02      0.00     99.82\n",
      "08:59:23 PM     all      0.03      0.00      0.13      0.02      0.00     99.82\n",
      "09:00:00 PM     all      0.01      0.00      0.13      0.03      0.00     99.83\n",
      "09:13:06 PM     all      0.02      0.00      0.13      0.02      0.00     99.83\n",
      "09:20:04 PM     all      0.01      0.00      0.14      0.02      0.00     99.83\n",
      "09:44:48 PM     all      0.01      0.00      0.12      0.02      0.00     99.85\n",
      "10:03:34 PM     all      0.05      0.00      0.13      0.02      0.00     99.81\n",
      "10:10:32 PM     all      0.05      0.00      0.15      0.02      0.00     99.79\n",
      "10:20:28 PM     all      0.03      0.00      0.15      0.02      0.00     99.80\n",
      "Average:        all      0.03      0.01      0.14      0.02      0.00     99.81\n",
      "\n"
     ]
    }
   ],
   "source": [
    "sarObj.printRawSar()"
   ]
  },
  {
   "cell_type": "code",
   "execution_count": 17,
   "id": "77864d98-a1cd-4952-ae6f-24a300f3f9f8",
   "metadata": {},
   "outputs": [
    {
     "name": "stdout",
     "output_type": "stream",
     "text": [
      "\n",
      "Timestamp       CPU     %user     %nice     %system     %iowait     %steal     %idle     \n",
      "---------       ---     -----     -----     -------     -------     ------     -----     \n",
      "12:11:00 AM     all     0.04      0.02      0.18        0.05        0.00       99.72     \n",
      "12:20:08 AM     all     0.01      0.00      0.12        0.02        0.00       99.85     \n",
      "12:30:15 AM     all     0.09      0.00      0.23        0.02        0.00       99.65     \n",
      "12:40:07 AM     all     0.05      0.00      0.19        0.02        0.00       99.74     \n",
      "12:50:15 AM     all     0.01      0.00      0.11        0.02        0.00       99.86     \n",
      "01:00:15 AM     all     0.02      0.00      0.11        0.02        0.00       99.85     \n",
      "04:02:49 AM     all     0.01      0.00      0.11        0.02        0.00       99.87     \n",
      "04:36:35 AM     all     0.04      0.01      0.14        0.04        0.00       99.78     \n",
      "04:46:50 AM     all     0.04      0.00      0.11        0.02        0.00       99.83     \n",
      "05:10:02 PM     all     0.04      0.00      0.14        0.03        0.00       99.80     \n",
      "05:20:30 PM     all     0.01      0.00      0.12        0.02        0.00       99.85     \n",
      "05:30:02 PM     all     0.01      0.00      0.13        0.02        0.00       99.84     \n",
      "05:40:03 PM     all     0.01      0.00      0.13        0.02        0.00       99.84     \n",
      "05:50:42 PM     all     0.04      0.05      0.13        0.02        0.00       99.76     \n",
      "06:00:02 PM     all     0.02      0.00      0.14        0.03        0.00       99.81     \n",
      "06:32:09 PM     all     0.03      0.00      0.16        0.02        0.00       99.79     \n",
      "06:40:10 PM     all     0.05      0.00      0.14        0.02        0.00       99.79     \n",
      "06:50:02 PM     all     0.03      0.00      0.15        0.02        0.00       99.80     \n",
      "07:00:22 PM     all     0.01      0.00      0.13        0.02        0.00       99.84     \n",
      "07:10:02 PM     all     0.01      0.00      0.13        0.02        0.00       99.85     \n",
      "07:20:22 PM     all     0.01      0.00      0.13        0.02        0.00       99.84     \n",
      "07:30:12 PM     all     0.01      0.00      0.15        0.02        0.00       99.82     \n",
      "07:40:02 PM     all     0.01      0.00      0.13        0.02        0.00       99.85     \n",
      "07:50:22 PM     all     0.01      0.00      0.12        0.02        0.00       99.85     \n",
      "08:00:15 PM     all     0.03      0.00      0.13        0.02        0.00       99.82     \n",
      "08:10:02 PM     all     0.01      0.00      0.12        0.02        0.00       99.85     \n",
      "08:20:01 PM     all     0.02      0.00      0.13        0.02        0.00       99.83     \n",
      "08:39:21 PM     all     0.46      0.29      0.30        0.10        0.00       98.85     \n",
      "08:40:50 PM     all     0.03      0.00      0.13        0.02        0.00       99.82     \n",
      "08:59:23 PM     all     0.03      0.00      0.13        0.02        0.00       99.82     \n",
      "09:00:00 PM     all     0.01      0.00      0.13        0.03        0.00       99.83     \n",
      "09:13:06 PM     all     0.02      0.00      0.13        0.02        0.00       99.83     \n",
      "09:20:04 PM     all     0.01      0.00      0.14        0.02        0.00       99.83     \n",
      "09:44:48 PM     all     0.01      0.00      0.12        0.02        0.00       99.85     \n",
      "10:03:34 PM     all     0.05      0.00      0.13        0.02        0.00       99.81     \n",
      "10:10:32 PM     all     0.05      0.00      0.15        0.02        0.00       99.79     \n",
      "10:20:28 PM     all     0.03      0.00      0.15        0.02        0.00       99.80     \n"
     ]
    }
   ],
   "source": [
    "sarObj.query(lambda f:float(f('%system')) > 0.1)"
   ]
  },
  {
   "cell_type": "code",
   "execution_count": 18,
   "id": "69e2043f-9e46-4584-bd4b-1f6f9f046eb9",
   "metadata": {},
   "outputs": [
    {
     "name": "stdout",
     "output_type": "stream",
     "text": [
      "\n",
      "Timestamp     DEV        tps       rd_sec/s     wr_sec/s     avgrq-sz     avgqu-sz     await      svctm     %util     \n",
      "---------     ---        ---       --------     --------     --------     --------     -----      -----     -----     \n",
      "00:05:31      dev8-0     66.14     388.19       11574.61     180.88       23.65        357.61     3.95      26.09     \n",
      "00:10:01      dev8-0     2.58      3.32         40.79        17.11        0.00         0.53       0.46      0.12      \n",
      "00:15:01      dev8-0     2.52      2.99         39.00        16.69        0.00         0.40       0.39      0.10      \n",
      "00:20:01      dev8-0     2.48      2.99         39.20        17.01        0.00         0.76       0.47      0.12      \n",
      "00:25:01      dev8-0     2.54      3.00         38.96        16.53        0.00         0.63       0.41      0.10      \n",
      "00:30:01      dev8-0     2.56      2.99         38.69        16.28        0.00         0.52       0.42      0.11      \n",
      "00:35:02      dev8-0     2.42      3.00         36.70        16.38        0.00         0.60       0.42      0.10      \n",
      "00:40:01      dev8-0     2.25      0.00         36.42        16.15        0.00         0.60       0.33      0.07      \n",
      "00:45:01      dev8-0     2.92      6.00         41.92        16.42        0.00         0.84       0.55      0.16      \n",
      "00:50:01      dev8-0     2.59      2.99         38.80        16.16        0.00         0.76       0.44      0.11      \n",
      "00:55:01      dev8-0     2.62      3.00         41.39        16.92        0.00         1.14       0.48      0.13      \n"
     ]
    }
   ],
   "source": [
    "with open('saru.txt') as fhand:\n",
    "    sar(fhand).query(lambda f:f('DEV')=='dev8-0' and f('Timestamp').split(':')[0]=='00')"
   ]
  },
  {
   "cell_type": "code",
   "execution_count": 19,
   "id": "cbcfdb47-ea2d-45f4-ae2c-17045016b0d1",
   "metadata": {},
   "outputs": [
    {
     "name": "stdout",
     "output_type": "stream",
     "text": [
      "Timestamp       CPU     %user     %nice     %system     %iowait     %steal     %idle     \n",
      "---------       ---     -----     -----     -------     -------     ------     -----     \n",
      "12:11:00 AM     all     0.04      0.02      0.18        0.05        0.00       99.72     \n",
      "12:20:08 AM     all     0.01      0.00      0.12        0.02        0.00       99.85     \n",
      "12:30:15 AM     all     0.09      0.00      0.23        0.02        0.00       99.65     \n",
      "12:40:07 AM     all     0.05      0.00      0.19        0.02        0.00       99.74     \n",
      "12:50:15 AM     all     0.01      0.00      0.11        0.02        0.00       99.86     \n",
      "01:00:15 AM     all     0.02      0.00      0.11        0.02        0.00       99.85     \n",
      "01:10:08 AM     all     0.01      0.00      0.10        0.02        0.00       99.87     \n",
      "04:02:49 AM     all     0.01      0.00      0.11        0.02        0.00       99.87     \n",
      "04:36:35 AM     all     0.04      0.01      0.14        0.04        0.00       99.78     \n",
      "04:46:50 AM     all     0.04      0.00      0.11        0.02        0.00       99.83     \n",
      "05:10:02 PM     all     0.04      0.00      0.14        0.03        0.00       99.80     \n",
      "05:20:30 PM     all     0.01      0.00      0.12        0.02        0.00       99.85     \n",
      "05:30:02 PM     all     0.01      0.00      0.13        0.02        0.00       99.84     \n",
      "05:40:03 PM     all     0.01      0.00      0.13        0.02        0.00       99.84     \n",
      "05:50:42 PM     all     0.04      0.05      0.13        0.02        0.00       99.76     \n",
      "06:00:02 PM     all     0.02      0.00      0.14        0.03        0.00       99.81     \n",
      "06:32:09 PM     all     0.03      0.00      0.16        0.02        0.00       99.79     \n",
      "06:40:10 PM     all     0.05      0.00      0.14        0.02        0.00       99.79     \n",
      "06:50:02 PM     all     0.03      0.00      0.15        0.02        0.00       99.80     \n",
      "07:00:22 PM     all     0.01      0.00      0.13        0.02        0.00       99.84     \n",
      "07:10:02 PM     all     0.01      0.00      0.13        0.02        0.00       99.85     \n",
      "07:20:22 PM     all     0.01      0.00      0.13        0.02        0.00       99.84     \n",
      "07:30:12 PM     all     0.01      0.00      0.15        0.02        0.00       99.82     \n",
      "07:40:02 PM     all     0.01      0.00      0.13        0.02        0.00       99.85     \n",
      "07:50:22 PM     all     0.01      0.00      0.12        0.02        0.00       99.85     \n",
      "08:00:15 PM     all     0.03      0.00      0.13        0.02        0.00       99.82     \n",
      "08:10:02 PM     all     0.01      0.00      0.12        0.02        0.00       99.85     \n",
      "08:20:01 PM     all     0.02      0.00      0.13        0.02        0.00       99.83     \n",
      "08:39:21 PM     all     0.46      0.29      0.30        0.10        0.00       98.85     \n",
      "08:40:50 PM     all     0.03      0.00      0.13        0.02        0.00       99.82     \n",
      "08:59:23 PM     all     0.03      0.00      0.13        0.02        0.00       99.82     \n",
      "09:00:00 PM     all     0.01      0.00      0.13        0.03        0.00       99.83     \n",
      "09:13:06 PM     all     0.02      0.00      0.13        0.02        0.00       99.83     \n",
      "09:20:04 PM     all     0.01      0.00      0.14        0.02        0.00       99.83     \n",
      "09:44:48 PM     all     0.01      0.00      0.12        0.02        0.00       99.85     \n",
      "10:03:34 PM     all     0.05      0.00      0.13        0.02        0.00       99.81     \n",
      "10:10:32 PM     all     0.05      0.00      0.15        0.02        0.00       99.79     \n",
      "10:20:28 PM     all     0.03      0.00      0.15        0.02        0.00       99.80     \n"
     ]
    }
   ],
   "source": [
    "for table in sarObj.fetchtables('%user'):\n",
    "    table.print()"
   ]
  },
  {
   "cell_type": "code",
   "execution_count": null,
   "id": "bef55671-b34e-459a-a20f-f7a23aa43e7c",
   "metadata": {},
   "outputs": [],
   "source": []
  }
 ],
 "metadata": {
  "kernelspec": {
   "display_name": "Python 3 (ipykernel)",
   "language": "python",
   "name": "python3"
  },
  "language_info": {
   "codemirror_mode": {
    "name": "ipython",
    "version": 3
   },
   "file_extension": ".py",
   "mimetype": "text/x-python",
   "name": "python",
   "nbconvert_exporter": "python",
   "pygments_lexer": "ipython3",
   "version": "3.12.7"
  }
 },
 "nbformat": 4,
 "nbformat_minor": 5
}
