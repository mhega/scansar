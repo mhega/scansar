{
 "cells": [
  {
   "cell_type": "markdown",
   "id": "0007005f",
   "metadata": {},
   "source": [
    "### ListTables.py requires InfoRecord.py"
   ]
  },
  {
   "cell_type": "code",
   "execution_count": 1,
   "id": "a0a13205",
   "metadata": {},
   "outputs": [],
   "source": [
    "from ListTables import printList"
   ]
  },
  {
   "cell_type": "code",
   "execution_count": 2,
   "id": "f9fa2de3",
   "metadata": {},
   "outputs": [],
   "source": [
    "l = [('Mike',23),('Greg',34)]\n",
    "h = ('Name','Age')"
   ]
  },
  {
   "cell_type": "code",
   "execution_count": 3,
   "id": "f5821ade",
   "metadata": {},
   "outputs": [
    {
     "name": "stdout",
     "output_type": "stream",
     "text": [
      "Name     Age     \n",
      "----     ---     \n",
      "Mike     23      \n",
      "Greg     34      \n"
     ]
    }
   ],
   "source": [
    "printList(h,l)"
   ]
  },
  {
   "cell_type": "code",
   "execution_count": 4,
   "id": "55bfaa43",
   "metadata": {},
   "outputs": [],
   "source": [
    "from ListTables import printTablesSideways"
   ]
  },
  {
   "cell_type": "code",
   "execution_count": 28,
   "id": "71e030ef",
   "metadata": {},
   "outputs": [],
   "source": [
    "class1 = sorted(l, key = lambda x:x[1], reverse=True)\n",
    "class2 = sorted([('Anna',15),('Ahmed',23),('Marc',40)], key = lambda x:x[1], reverse=True)"
   ]
  },
  {
   "cell_type": "code",
   "execution_count": 29,
   "id": "057fa337",
   "metadata": {},
   "outputs": [
    {
     "name": "stdout",
     "output_type": "stream",
     "text": [
      "\n",
      "\n",
      "\n",
      "     Class 1         |          Class 2         \n",
      "     -------         -          -------         \n",
      "Name        Age      |     Name        Age      \n",
      "----        ---      -     ----        ---      \n",
      "Greg        34       |     Marc        40       \n",
      "Mike        23       |     Ahmed       23       \n",
      "                     |     Anna        15\n"
     ]
    }
   ],
   "source": [
    "printTablesSideways(h,{'Class 1':class1, 'Class 2':class2},3,4)"
   ]
  },
  {
   "cell_type": "code",
   "execution_count": 30,
   "id": "aed2477e",
   "metadata": {},
   "outputs": [],
   "source": [
    "class3 = sorted([('Adrian',18),('Whittney',33),('Elias',50),('Sophia',10)], key = lambda x:x[1], reverse=True)\n",
    "class4 = sorted([('John',18),('Steve',42),('Jan',60)], key = lambda x:x[1], reverse=True)"
   ]
  },
  {
   "cell_type": "code",
   "execution_count": 35,
   "id": "ad0f8c1e",
   "metadata": {},
   "outputs": [
    {
     "name": "stdout",
     "output_type": "stream",
     "text": [
      "\n",
      "\n",
      "\n",
      "\n",
      "=========================================================================================================================\n",
      "=               Class 1         |          Class 2         |           Class 3         |          Class 4               =\n",
      "=               -------         -          -------         -           -------         -          -------               =\n",
      "=          Name        Age      |     Name        Age      |     Name         Age      |     Name        Age            =\n",
      "=          ----        ---      -     ----        ---      -     ----         ---      -     ----        ---            =\n",
      "=          Greg        34       |     Marc        40       |     Elias        50       |     Jan         60             =\n",
      "=          Mike        23       |     Ahmed       23       |     Whittney     33       |     Steve       42             =\n",
      "=                               |     Anna        15       |     Adrian       18       |     John        18             =\n",
      "=========================================================================================================================\n"
     ]
    }
   ],
   "source": [
    "printTablesSideways(h,{'Class 1':class1, 'Class 2':class2, 'Class 3':class3, 'Class 4':class4},3,4, frameBlock='=')"
   ]
  },
  {
   "cell_type": "code",
   "execution_count": 36,
   "id": "0583d206",
   "metadata": {},
   "outputs": [
    {
     "name": "stdout",
     "output_type": "stream",
     "text": [
      "\n",
      "\n",
      "\n",
      "\n",
      "===============================================================================================\n",
      "=               Class 4         |           Class 3         |          Class 2                =\n",
      "=               -------         -           -------         -          -------                =\n",
      "=          Name        Age      |     Name         Age      |     Name        Age             =\n",
      "=          ----        ---      -     ----         ---      -     ----        ---             =\n",
      "=          Jan         60       |     Elias        50       |     Marc        40              =\n",
      "=          Steve       42       |     Whittney     33       |     Ahmed       23              =\n",
      "=          John        18       |     Adrian       18       |     Anna        15              =\n",
      "=                               |     Sophia       10       |                                 =\n",
      "===============================================================================================\n",
      "\n",
      "\n",
      "\n",
      "\n",
      "=======================================\n",
      "=               Class 1               =\n",
      "=               -------               =\n",
      "=          Name        Age            =\n",
      "=          ----        ---            =\n",
      "=          Greg        34             =\n",
      "=          Mike        23             =\n",
      "=======================================\n"
     ]
    }
   ],
   "source": [
    "printTablesSideways(h,{'Class 1':class1, 'Class 2':class2, 'Class 3':class3, 'Class 4':class4},4,3, frameBlock='=', key=lambda x:int(x[0][1]), reverse=True)"
   ]
  },
  {
   "cell_type": "markdown",
   "id": "8555b37a",
   "metadata": {},
   "source": [
    "### Sorting within the call to \"printTablesSideways\" determines the order of tables to be printed - not the order of records to be printed within each table.\n",
    "#### That is : specifying \"key=lambda x:int(x[0][1]), reverse=True\" in the call to \"printTablesSideways\" leads to sorting (in reverse) the tables by the age of the first record within each table (60,50,40,34)"
   ]
  },
  {
   "cell_type": "code",
   "execution_count": null,
   "id": "95f9c4f3",
   "metadata": {},
   "outputs": [],
   "source": []
  }
 ],
 "metadata": {
  "kernelspec": {
   "display_name": "Python 3 (ipykernel)",
   "language": "python",
   "name": "python3"
  },
  "language_info": {
   "codemirror_mode": {
    "name": "ipython",
    "version": 3
   },
   "file_extension": ".py",
   "mimetype": "text/x-python",
   "name": "python",
   "nbconvert_exporter": "python",
   "pygments_lexer": "ipython3",
   "version": "3.12.7"
  }
 },
 "nbformat": 4,
 "nbformat_minor": 5
}
