{
 "cells": [
  {
   "cell_type": "code",
   "execution_count": 14,
   "id": "17658c3b",
   "metadata": {},
   "outputs": [],
   "source": [
    "from InfoRecord import Stage"
   ]
  },
  {
   "cell_type": "code",
   "execution_count": 15,
   "id": "77f314d0",
   "metadata": {},
   "outputs": [
    {
     "name": "stdout",
     "output_type": "stream",
     "text": [
      "\n",
      "===========================\n",
      "=          Loading..      =\n",
      "===========================\n"
     ]
    }
   ],
   "source": [
    "print(Stage('Loading..').stringValue())"
   ]
  },
  {
   "cell_type": "code",
   "execution_count": 16,
   "id": "10cc5512",
   "metadata": {},
   "outputs": [],
   "source": [
    "from InfoRecord import InfoRecord"
   ]
  },
  {
   "cell_type": "code",
   "execution_count": 17,
   "id": "0f9c8314",
   "metadata": {},
   "outputs": [
    {
     "name": "stdout",
     "output_type": "stream",
     "text": [
      "\n",
      "                    +++++++++++++++++++++++++++++++++++++++Class++++++++++++++++++++++++++++++++++++++++\n",
      "                    +                     Name : InfoRecord                                            +\n",
      "                    +                 Language : Python                                                +\n",
      "                    +              Description : Simple class for convenient text display              +\n",
      "                    +                            ....                                                  +\n",
      "                    +                            ...                                                   +\n",
      "                    ++++++++++++++++++++++++++++++++++++++++++++++++++++++++++++++++++++++++++++++++++++\n"
     ]
    }
   ],
   "source": [
    "record = InfoRecord(topTitle='Class')\n",
    "record.setRecord('Name','InfoRecord')\n",
    "record.setRecord('Language','Python')\n",
    "record.setRecord('Description','Simple class for convenient text display\\n....\\n...')\n",
    "print(record.stringValue())"
   ]
  },
  {
   "cell_type": "code",
   "execution_count": null,
   "id": "2781232d",
   "metadata": {},
   "outputs": [],
   "source": []
  }
 ],
 "metadata": {
  "kernelspec": {
   "display_name": "Python 3 (ipykernel)",
   "language": "python",
   "name": "python3"
  },
  "language_info": {
   "codemirror_mode": {
    "name": "ipython",
    "version": 3
   },
   "file_extension": ".py",
   "mimetype": "text/x-python",
   "name": "python",
   "nbconvert_exporter": "python",
   "pygments_lexer": "ipython3",
   "version": "3.12.7"
  }
 },
 "nbformat": 4,
 "nbformat_minor": 5
}
